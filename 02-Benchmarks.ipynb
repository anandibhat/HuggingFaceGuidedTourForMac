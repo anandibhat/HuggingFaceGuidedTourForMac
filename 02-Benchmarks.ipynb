{
 "cells": [
  {
   "cell_type": "markdown",
   "id": "81ccf04e-8fa1-43fb-8938-ee6c1639b9eb",
   "metadata": {},
   "source": [
    "## Results\n",
    "\n",
    "### Matrix size 2024, 3 iterations, Python 3.12\n",
    "\n",
    "| System         | Framework       | Accelerator    | Result    |\n",
    "| -------------- | --------------- | -------------- | --------- |\n",
    "| i5 + 4070ti    | JAX             | GPU            |   1.99 ms |\n",
    "| M2 Max (30 c.) | JAX             | Metal GPU      |   6.2 ms  |\n",
    "| Colab          | JAX             | TPU v4         |  12.5 ms  |\n",
    "| M2 Max (30 c.) | Torch.compile() | Metal GPU      |  28.3 ms  |\n",
    "| M2 Max (30 c.) | Torch           | Metal GPU      |  30.6 ms  |\n",
    "| i5 + 4070ti    | Torch.compile() | GPU            |  84.5 ms  |\n",
    "| i5 + 4070ti    | Torch           | GPU            |  91.5 ms  |\n",
    "| Intel i5 13500 | Numpy           | CPU            | 125 ms    |\n",
    "| M2 Max         | Numpy           | CPU            | 153 ms    |\n",
    "| Colab          | Numpy           | CPU            | 736 ms    |\n",
    "\n",
    "Note: `torch.compile()` requires currently nightly of Torch 2.4 on Python 3.12 both for Nvidia and Apple.\n"
   ]
  },
  {
   "cell_type": "markdown",
   "id": "21877c96-b562-4011-8456-0e91f14b8032",
   "metadata": {},
   "source": [
    "## Numpy reference"
   ]
  },
  {
   "cell_type": "code",
   "execution_count": 1,
   "id": "f431724f-fc4d-4a02-aa57-39f97cbf887b",
   "metadata": {},
   "outputs": [],
   "source": [
    "import numpy as np"
   ]
  },
  {
   "cell_type": "code",
   "execution_count": 16,
   "id": "5152283c-833e-465b-b144-98fe35316ece",
   "metadata": {},
   "outputs": [
    {
     "data": {
      "text/plain": [
       "'1.26.4'"
      ]
     },
     "execution_count": 16,
     "metadata": {},
     "output_type": "execute_result"
    }
   ],
   "source": [
    "np.version.version"
   ]
  },
  {
   "cell_type": "code",
   "execution_count": 2,
   "id": "afc8e31c-52a7-498f-94a6-ee4cf446c480",
   "metadata": {},
   "outputs": [],
   "source": [
    "x = np.random.rand(2048, 2048).astype(dtype=np.float32) / 5.0"
   ]
  },
  {
   "cell_type": "code",
   "execution_count": 9,
   "id": "c07fd832-adfd-4cbe-ac49-583f3ce61d19",
   "metadata": {},
   "outputs": [],
   "source": [
    "def bench_func(x):\n",
    "    for i in range(3):\n",
    "        x = (np.matmul(x,x)+x)/1000.0\n",
    "    return x"
   ]
  },
  {
   "cell_type": "code",
   "execution_count": 10,
   "id": "2c3d9123-bdf5-41ca-9e0c-0e77a86dc63b",
   "metadata": {},
   "outputs": [
    {
     "name": "stdout",
     "output_type": "stream",
     "text": [
      "153 ms ± 3.43 ms per loop (mean ± std. dev. of 7 runs, 10 loops each)\n"
     ]
    }
   ],
   "source": [
    "%timeit bench_func(x)"
   ]
  },
  {
   "cell_type": "markdown",
   "id": "3736582c-30ba-4c69-8315-2ebe63e60487",
   "metadata": {},
   "source": [
    "## JAX"
   ]
  },
  {
   "cell_type": "code",
   "execution_count": 11,
   "id": "38156a00-fa41-4e6a-8032-2ac98ba3a73b",
   "metadata": {},
   "outputs": [],
   "source": [
    "import jax\n",
    "from jax import jit\n",
    "import jax.numpy as jnp"
   ]
  },
  {
   "cell_type": "code",
   "execution_count": 17,
   "id": "d2dc7b68-769c-4d89-ac7f-d4dad052cc1d",
   "metadata": {},
   "outputs": [
    {
     "data": {
      "text/plain": [
       "'0.4.26'"
      ]
     },
     "execution_count": 17,
     "metadata": {},
     "output_type": "execute_result"
    }
   ],
   "source": [
    "jax.__version__"
   ]
  },
  {
   "cell_type": "code",
   "execution_count": 12,
   "id": "426648c3-c598-4323-bc33-539a2380fb1f",
   "metadata": {},
   "outputs": [
    {
     "name": "stderr",
     "output_type": "stream",
     "text": [
      "Platform 'METAL' is experimental and not all JAX functionality may be correctly supported!\n"
     ]
    },
    {
     "name": "stdout",
     "output_type": "stream",
     "text": [
      "Metal device set to: Apple M2 Max\n"
     ]
    },
    {
     "name": "stderr",
     "output_type": "stream",
     "text": [
      "2024-04-28 17:08:47.405629: W pjrt_plugin/src/mps_client.cc:563] WARNING: JAX Apple GPU support is experimental and not all JAX functionality is correctly supported!\n"
     ]
    }
   ],
   "source": [
    "xj = jnp.array(x)"
   ]
  },
  {
   "cell_type": "code",
   "execution_count": 13,
   "id": "e4e08b87-717c-4c88-ba1a-73c93d395607",
   "metadata": {},
   "outputs": [],
   "source": [
    "def bench_func_j(x):\n",
    "    for i in range(3):\n",
    "        x = (jnp.matmul(x,x)+x)/1000.0\n",
    "    return x"
   ]
  },
  {
   "cell_type": "code",
   "execution_count": 14,
   "id": "75f004ef-8f51-4b82-9bf6-87ce3826df8d",
   "metadata": {},
   "outputs": [
    {
     "name": "stdout",
     "output_type": "stream",
     "text": [
      "6.2 ms ± 22.4 µs per loop (mean ± std. dev. of 7 runs, 100 loops each)\n"
     ]
    }
   ],
   "source": [
    "%timeit jit(bench_func_j)(xj).block_until_ready()"
   ]
  },
  {
   "cell_type": "markdown",
   "id": "dbd7ff8c-9cf4-4ba6-bc53-eccf891ff441",
   "metadata": {},
   "source": [
    "## Torch"
   ]
  },
  {
   "cell_type": "code",
   "execution_count": 3,
   "id": "aeeab881-e501-4ad1-b520-c565b3ecb773",
   "metadata": {},
   "outputs": [],
   "source": [
    "import torch"
   ]
  },
  {
   "cell_type": "code",
   "execution_count": 18,
   "id": "f10c3fe4-0994-4abc-8711-af073a85ec3f",
   "metadata": {},
   "outputs": [
    {
     "data": {
      "text/plain": [
       "'2.4.0.dev20240428'"
      ]
     },
     "execution_count": 18,
     "metadata": {},
     "output_type": "execute_result"
    }
   ],
   "source": [
    "torch.__version__"
   ]
  },
  {
   "cell_type": "code",
   "execution_count": 4,
   "id": "2eddcbb4-8c2e-4f80-8a41-bb2bb127f95d",
   "metadata": {},
   "outputs": [],
   "source": [
    "xt = torch.tensor(x)"
   ]
  },
  {
   "cell_type": "code",
   "execution_count": 5,
   "id": "53d65539-1d02-40c2-a67a-fa5625f5a4d7",
   "metadata": {},
   "outputs": [],
   "source": [
    "def bench_func_t(x):\n",
    "    for i in range(3):\n",
    "        x = (torch.matmul(x,x)+x)/1000.0\n",
    "    return x"
   ]
  },
  {
   "cell_type": "code",
   "execution_count": 6,
   "id": "7978ad74-72b3-413e-9283-23b4fb9f9040",
   "metadata": {},
   "outputs": [
    {
     "name": "stdout",
     "output_type": "stream",
     "text": [
      "30.6 ms ± 68.3 µs per loop (mean ± std. dev. of 7 runs, 10 loops each)\n"
     ]
    }
   ],
   "source": [
    "%timeit bench_func_t(xt)"
   ]
  },
  {
   "cell_type": "code",
   "execution_count": 7,
   "id": "5aea4ab3-b6d0-4f1c-b394-93bcc6d8f637",
   "metadata": {},
   "outputs": [],
   "source": [
    "bench_func_tc = torch.compile(bench_func_t)"
   ]
  },
  {
   "cell_type": "code",
   "execution_count": 8,
   "id": "9687c22a-9839-4c47-bde1-f14355e65f8f",
   "metadata": {},
   "outputs": [
    {
     "name": "stdout",
     "output_type": "stream",
     "text": [
      "28.3 ms ± 200 µs per loop (mean ± std. dev. of 7 runs, 1 loop each)\n"
     ]
    }
   ],
   "source": [
    "%timeit bench_func_tc(xt)"
   ]
  },
  {
   "cell_type": "code",
   "execution_count": null,
   "id": "9f8839a3-91d6-465a-a081-569ea3ede6d9",
   "metadata": {},
   "outputs": [],
   "source": []
  }
 ],
 "metadata": {
  "kernelspec": {
   "display_name": "Python 3 (ipykernel)",
   "language": "python",
   "name": "python3"
  },
  "language_info": {
   "codemirror_mode": {
    "name": "ipython",
    "version": 3
   },
   "file_extension": ".py",
   "mimetype": "text/x-python",
   "name": "python",
   "nbconvert_exporter": "python",
   "pygments_lexer": "ipython3",
   "version": "3.12.3"
  }
 },
 "nbformat": 4,
 "nbformat_minor": 5
}
