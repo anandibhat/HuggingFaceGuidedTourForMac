{
 "cells": [
  {
   "cell_type": "markdown",
   "id": "81ccf04e-8fa1-43fb-8938-ee6c1639b9eb",
   "metadata": {},
   "source": [
    "## Results\n",
    "\n",
    "### Matrix size 2024, 3 iterations\n",
    "\n",
    "| System         | Framework       | Accelerator    | Result    |\n",
    "| -------------- | --------------- | -------------- | --------- |\n",
    "| i5 + 4070ti    | JAX             | GPU            |   1.99 ms |\n",
    "| i5 + 4070ti    | Torch.compile() | GPU            |  84.5 ms  |\n",
    "| i5 + 4070ti    | Torch           | GPU            |  91.5 ms  |\n",
    "| Intel i5 13500 | Numpy           | CPU            | 125 ms    |\n",
    "\n",
    "\n"
   ]
  },
  {
   "cell_type": "markdown",
   "id": "21877c96-b562-4011-8456-0e91f14b8032",
   "metadata": {},
   "source": [
    "## Numpy reference"
   ]
  },
  {
   "cell_type": "code",
   "execution_count": 11,
   "id": "f431724f-fc4d-4a02-aa57-39f97cbf887b",
   "metadata": {},
   "outputs": [],
   "source": [
    "import numpy as np"
   ]
  },
  {
   "cell_type": "code",
   "execution_count": 12,
   "id": "afc8e31c-52a7-498f-94a6-ee4cf446c480",
   "metadata": {},
   "outputs": [],
   "source": [
    "x = np.random.rand(2048, 2048).astype(dtype=np.float32) / 5.0"
   ]
  },
  {
   "cell_type": "code",
   "execution_count": 13,
   "id": "c07fd832-adfd-4cbe-ac49-583f3ce61d19",
   "metadata": {},
   "outputs": [],
   "source": [
    "def bench_func(x):\n",
    "    for i in range(3):\n",
    "        x = (np.matmul(x,x)+x)/1000.0\n",
    "    return x"
   ]
  },
  {
   "cell_type": "code",
   "execution_count": 14,
   "id": "2c3d9123-bdf5-41ca-9e0c-0e77a86dc63b",
   "metadata": {},
   "outputs": [
    {
     "name": "stdout",
     "output_type": "stream",
     "text": [
      "125 ms ± 352 µs per loop (mean ± std. dev. of 7 runs, 10 loops each)\n"
     ]
    }
   ],
   "source": [
    "%timeit bench_func(x)"
   ]
  },
  {
   "cell_type": "markdown",
   "id": "3736582c-30ba-4c69-8315-2ebe63e60487",
   "metadata": {},
   "source": [
    "## JAX"
   ]
  },
  {
   "cell_type": "code",
   "execution_count": 16,
   "id": "38156a00-fa41-4e6a-8032-2ac98ba3a73b",
   "metadata": {},
   "outputs": [],
   "source": [
    "import jax\n",
    "from jax import jit\n",
    "import jax.numpy as jnp"
   ]
  },
  {
   "cell_type": "code",
   "execution_count": 17,
   "id": "426648c3-c598-4323-bc33-539a2380fb1f",
   "metadata": {},
   "outputs": [],
   "source": [
    "xj = jnp.array(x)"
   ]
  },
  {
   "cell_type": "code",
   "execution_count": 18,
   "id": "e4e08b87-717c-4c88-ba1a-73c93d395607",
   "metadata": {},
   "outputs": [],
   "source": [
    "def bench_func_j(x):\n",
    "    for i in range(3):\n",
    "        x = (jnp.matmul(x,x)+x)/1000.0\n",
    "    return x"
   ]
  },
  {
   "cell_type": "code",
   "execution_count": 19,
   "id": "75f004ef-8f51-4b82-9bf6-87ce3826df8d",
   "metadata": {},
   "outputs": [
    {
     "name": "stdout",
     "output_type": "stream",
     "text": [
      "1.99 ms ± 73.8 µs per loop (mean ± std. dev. of 7 runs, 1 loop each)\n"
     ]
    }
   ],
   "source": [
    "%timeit jit(bench_func_j)(xj).block_until_ready()"
   ]
  },
  {
   "cell_type": "markdown",
   "id": "dbd7ff8c-9cf4-4ba6-bc53-eccf891ff441",
   "metadata": {},
   "source": [
    "## Torch"
   ]
  },
  {
   "cell_type": "code",
   "execution_count": 20,
   "id": "aeeab881-e501-4ad1-b520-c565b3ecb773",
   "metadata": {},
   "outputs": [],
   "source": [
    "import torch"
   ]
  },
  {
   "cell_type": "code",
   "execution_count": 21,
   "id": "2eddcbb4-8c2e-4f80-8a41-bb2bb127f95d",
   "metadata": {},
   "outputs": [],
   "source": [
    "xt = torch.tensor(x)"
   ]
  },
  {
   "cell_type": "code",
   "execution_count": 22,
   "id": "53d65539-1d02-40c2-a67a-fa5625f5a4d7",
   "metadata": {},
   "outputs": [],
   "source": [
    "def bench_func_t(x):\n",
    "    for i in range(3):\n",
    "        x = (torch.matmul(x,x)+x)/1000.0\n",
    "    return x"
   ]
  },
  {
   "cell_type": "code",
   "execution_count": 23,
   "id": "7978ad74-72b3-413e-9283-23b4fb9f9040",
   "metadata": {},
   "outputs": [
    {
     "name": "stdout",
     "output_type": "stream",
     "text": [
      "91.5 ms ± 190 µs per loop (mean ± std. dev. of 7 runs, 10 loops each)\n"
     ]
    }
   ],
   "source": [
    "%timeit bench_func_t(xt)"
   ]
  },
  {
   "cell_type": "code",
   "execution_count": 24,
   "id": "5aea4ab3-b6d0-4f1c-b394-93bcc6d8f637",
   "metadata": {},
   "outputs": [],
   "source": [
    "bench_func_tc = torch.compile(bench_func_t)"
   ]
  },
  {
   "cell_type": "code",
   "execution_count": 25,
   "id": "9687c22a-9839-4c47-bde1-f14355e65f8f",
   "metadata": {},
   "outputs": [
    {
     "name": "stdout",
     "output_type": "stream",
     "text": [
      "84.5 ms ± 72.7 µs per loop (mean ± std. dev. of 7 runs, 10 loops each)\n"
     ]
    }
   ],
   "source": [
    "%timeit bench_func_tc(xt)"
   ]
  },
  {
   "cell_type": "code",
   "execution_count": null,
   "id": "9f8839a3-91d6-465a-a081-569ea3ede6d9",
   "metadata": {},
   "outputs": [],
   "source": []
  }
 ],
 "metadata": {
  "kernelspec": {
   "display_name": "Python 3 (ipykernel)",
   "language": "python",
   "name": "python3"
  },
  "language_info": {
   "codemirror_mode": {
    "name": "ipython",
    "version": 3
   },
   "file_extension": ".py",
   "mimetype": "text/x-python",
   "name": "python",
   "nbconvert_exporter": "python",
   "pygments_lexer": "ipython3",
   "version": "3.12.3"
  }
 },
 "nbformat": 4,
 "nbformat_minor": 5
}
