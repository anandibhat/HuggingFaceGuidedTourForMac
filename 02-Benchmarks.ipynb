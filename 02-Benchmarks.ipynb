{
 "cells": [
  {
   "cell_type": "code",
   "execution_count": 22,
   "id": "e58f4cf7-975e-4fbd-ad97-69b1fb1588e4",
   "metadata": {},
   "outputs": [],
   "source": [
    "import jax\n",
    "from jax import jit\n",
    "import jax.numpy as jnp\n",
    "import numpy as np"
   ]
  },
  {
   "cell_type": "code",
   "execution_count": 30,
   "id": "afc8e31c-52a7-498f-94a6-ee4cf446c480",
   "metadata": {},
   "outputs": [],
   "source": [
    "x = np.random.rand(2048, 2048).astype(dtype=np.float32)"
   ]
  },
  {
   "cell_type": "code",
   "execution_count": 31,
   "id": "426648c3-c598-4323-bc33-539a2380fb1f",
   "metadata": {},
   "outputs": [],
   "source": [
    "xj = jnp.array(x)"
   ]
  },
  {
   "cell_type": "code",
   "execution_count": 32,
   "id": "e4e08b87-717c-4c88-ba1a-73c93d395607",
   "metadata": {},
   "outputs": [],
   "source": [
    "def bench_func(x):\n",
    "    for i in range(10):\n",
    "        x = (x*x+x)/2.0\n",
    "    return x"
   ]
  },
  {
   "cell_type": "code",
   "execution_count": 33,
   "id": "561c3f00-245c-441d-9c96-2feca6f2f8c6",
   "metadata": {},
   "outputs": [
    {
     "data": {
      "text/plain": [
       "array([[1.7461327e-03, 1.8241390e-04, 8.1232237e-03, ..., 1.0861983e-02,\n",
       "        1.4884750e-03, 2.0174329e-04],\n",
       "       [1.1372954e-03, 1.4585739e-03, 2.4806077e-03, ..., 3.5619509e-04,\n",
       "        9.1104209e-03, 1.0708585e-02],\n",
       "       [2.6197333e-03, 4.5072101e-04, 5.3375732e-04, ..., 9.8322565e-03,\n",
       "        6.0740311e-02, 8.1474639e-02],\n",
       "       ...,\n",
       "       [4.2800358e-03, 7.8390836e-04, 8.6207455e-03, ..., 3.4268037e-03,\n",
       "        1.8181236e-03, 3.3391663e-04],\n",
       "       [8.6220032e-05, 2.4278357e-04, 2.8487208e-04, ..., 1.8660809e-04,\n",
       "        3.2633713e-03, 1.4509721e-02],\n",
       "       [4.0727336e-04, 2.6338474e-05, 1.5617841e-01, ..., 8.4046302e-03,\n",
       "        6.5404701e-04, 3.5888283e-04]], dtype=float32)"
      ]
     },
     "execution_count": 33,
     "metadata": {},
     "output_type": "execute_result"
    }
   ],
   "source": [
    "bench_func(x)"
   ]
  },
  {
   "cell_type": "code",
   "execution_count": 34,
   "id": "2c3d9123-bdf5-41ca-9e0c-0e77a86dc63b",
   "metadata": {},
   "outputs": [
    {
     "name": "stdout",
     "output_type": "stream",
     "text": [
      "19.8 ms ± 124 µs per loop (mean ± std. dev. of 7 runs, 10 loops each)\n"
     ]
    }
   ],
   "source": [
    "%timeit bench_func(x)"
   ]
  },
  {
   "cell_type": "code",
   "execution_count": 35,
   "id": "75f004ef-8f51-4b82-9bf6-87ce3826df8d",
   "metadata": {},
   "outputs": [
    {
     "name": "stdout",
     "output_type": "stream",
     "text": [
      "783 µs ± 5.31 µs per loop (mean ± std. dev. of 7 runs, 1,000 loops each)\n"
     ]
    }
   ],
   "source": [
    "%timeit jit(bench_func)(xj).block_until_ready()"
   ]
  },
  {
   "cell_type": "markdown",
   "id": "81ccf04e-8fa1-43fb-8938-ee6c1639b9eb",
   "metadata": {},
   "source": [
    "## Results\n",
    "\n",
    "| System | Framework | Accelerator | Result |\n",
    "| ------ | --------- | ----------- | ------- |\n",
    "| M2Max  | Numpy     | CPU         | 19.8 ms |\n",
    "| M2Max  | JAX       | Metal (30 Core) | 783 us |\n",
    "| Colab  | Numpy     | CPU         | 112 ms |\n",
    "| Colab  | JAX       | TPU v4      | 492 us |"
   ]
  },
  {
   "cell_type": "code",
   "execution_count": null,
   "id": "aeeab881-e501-4ad1-b520-c565b3ecb773",
   "metadata": {},
   "outputs": [],
   "source": []
  }
 ],
 "metadata": {
  "kernelspec": {
   "display_name": "Python 3 (ipykernel)",
   "language": "python",
   "name": "python3"
  },
  "language_info": {
   "codemirror_mode": {
    "name": "ipython",
    "version": 3
   },
   "file_extension": ".py",
   "mimetype": "text/x-python",
   "name": "python",
   "nbconvert_exporter": "python",
   "pygments_lexer": "ipython3",
   "version": "3.12.3"
  }
 },
 "nbformat": 4,
 "nbformat_minor": 5
}
